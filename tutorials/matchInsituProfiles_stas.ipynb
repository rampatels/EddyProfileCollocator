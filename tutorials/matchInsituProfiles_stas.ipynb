{
 "cells": [
  {
   "cell_type": "markdown",
   "metadata": {},
   "source": [
    "# Automate collocation of mesoscale eddies and ship-based hydrographic observations\n",
    "\n",
    "We will begin by loading respective datasets. For the purpose of this tutorial, I have downloaded and prepared `.mat` files, which can be found in the `data` directory. Specifically, I selected an expedition from [GO-SHIP](https://cchdo.ucsd.edu/search?q=GO-SHIP) conducted between Tasmania and Antarctic in 2011. This expedition encountered both cyclonic and anticyclonic eddies, providing a valuable dataset for our analysis. For mesoscale eddies, I have subsetted eddies from the Faghmous et al. 2015 datasets specifically for the year 2011 which has been updated with closed contours. For details on processing the eddy datasets, please refer to [OceanEddies](https://github.com/rampatels/OceanEddies) and [OceanEddiesToolbox](https://github.com/rampatels/OceanEddiesToolbox)."
   ]
  },
  {
   "cell_type": "code",
   "execution_count": 2,
   "metadata": {},
   "outputs": [],
   "source": [
    "clear;clc\n",
    "% load hydrographic data\n",
    "dir_path = '~/Documents/ToGitHub/EddyProfileCollocator';\n",
    "load(strcat(dir_path,'/data/', 'sr03voyages_tutorial.mat'))\n",
    "% load mesoscale eddies\n",
    "load(strcat(dir_path,'/data/', 'fageddies_tutorial.mat'))"
   ]
  },
  {
   "cell_type": "markdown",
   "metadata": {},
   "source": [
    "**NOTE:** The original intent of EddyProfSync is to collocate mesoscale eddies and Argo profiles using the Mesoscale Eddies Trajectory Atlas (META) disseminated by AVISO. Therefore, the nomenclature used in the software follows the META variable name convention. **Users should ensure that their eddy data adheres to the META variable name convention**. In other words, the eddy center x position should be renamed as longitude, and the y position should be renamed as latitude. The contours used to match the profiles surfaced in eddies should have either effective_contour_longitude/latitude or speed_contour_longitude/latitude, depending on the eddy tracking algorithm that you have used for your research.\n",
    "\n",
    "The Faghmous data used here follows Chelton's variable name convention. Additionally, they store the outermost closed contours to define the eddy boundary. This definition of the eddy boundary is similar to META's effective_contour. Nonetheless, I have written a function called `ra_fagwithshape2meta.m`, which can be found in the `utils` directory, that converts this format to the META variable convention. For interested readers, please refer to your GitHub repository of eddy shape."
   ]
  },
  {
   "cell_type": "code",
   "execution_count": 3,
   "metadata": {},
   "outputs": [],
   "source": [
    "% Update the field names in Fagdata to conform nomenclature of EddyProfSync\n",
    "\n",
    "cyc_metafmt = ra_fagwithshape2meta(cycdata);\n",
    "acyc_metafmt = ra_fagwithshape2meta(acycdata);"
   ]
  },
  {
   "cell_type": "markdown",
   "metadata": {},
   "source": [
    "EddyProfSync requires two indices for matching eddies and surfaced profiles. To index eddies, we use row numbers, as the data is stored in a tabular format where each row corresponds to a distinct eddy realization. For hydrographic observations, the index variable should consist of two columns – the first column representing the voyage name and the second column representing the corresponding stations. These structures allow easy tracing back to the original .nc file if needed. These indices play a crucial role in the collocation process, constituting a unique and integral feature of EddyProfSync."
   ]
  },
  {
   "cell_type": "code",
   "execution_count": 4,
   "metadata": {},
   "outputs": [],
   "source": [
    "% Prepare Index input for hydrographic observations\n",
    "[voyagenums, prefixes]= Ecode2voyagenums(Ecode);\n",
    "voyageidnstnnum = [voyagenums, stations];\n",
    "\n",
    "%{\n",
    "Convert time variable to datenum of the day only.\n",
    "Because usually voayges records date and time.\n",
    "%} \n",
    "a = datevec(times);\n",
    "voyagedates = datenum(a(:,1), a(:,2), a(:,3));%#ok\n",
    "clear a;"
   ]
  },
  {
   "cell_type": "markdown",
   "metadata": {},
   "source": [
    "We will initially define an index for cyclonic eddies and collocate them. Subsequently, we will collocate anticyclonic eddies with the remaining profiles. In both cases, we will also filter eddies for the sampling period. This workflow optimizes the performance of EddyProfSync by eliminating unnecessary checks for surface profiles when none are available. While EddyProfSync doesn't mind skipping to the next day, this optimization ensures a smoother execution."
   ]
  },
  {
   "cell_type": "code",
   "execution_count": 5,
   "metadata": {},
   "outputs": [],
   "source": [
    "% Prepare EddyIndex input for cyclonic eddies\n",
    "time_cyc = cyc_metafmt.time;\n",
    "\n",
    "% Optimise for sampling period\n",
    "prof_start = min(voyagedates); % to filter eddies data\n",
    "prof_end = max(voyagedates); % to filter eddies data\n",
    "%\n",
    "valdate = time_cyc >= prof_start & time_cyc <= prof_end;\n",
    "\n",
    "% Get corresponding parameters from dates\n",
    "edates = time_cyc(valdate); % eddy time\n",
    "\n",
    "% EDDYINDEX input\n",
    "eindex = find(valdate); % the index that falls in sampling period\n",
    "clear valdate prof_start prof_end"
   ]
  },
  {
   "cell_type": "markdown",
   "metadata": {},
   "source": [
    "With our indices prepared, we now have all the necessary inputs to execute EddyProfSync."
   ]
  },
  {
   "cell_type": "code",
   "execution_count": 7,
   "metadata": {},
   "outputs": [
    {
     "name": "stdout",
     "output_type": "stream",
     "text": [
      "Collocating surfaced profile and eddies for: 04-Jan-2011\n",
      "no profile in any eddy!!\n",
      "Collocating surfaced profile and eddies for: 05-Jan-2011\n",
      "no profile in any eddy!!\n",
      "Collocating surfaced profile and eddies for: 06-Jan-2011\n",
      "Finding the nearest eddy enclosing argo profiles\n",
      "Finding the nearest eddy enclosing argo profiles\n",
      "Finding the nearest eddy enclosing argo profiles\n",
      "Found the eddy:39\n",
      "Finding the nearest eddy enclosing argo profiles\n",
      "Finding the nearest eddy enclosing argo profiles\n",
      "Collocating surfaced profile and eddies for: 07-Jan-2011\n",
      "Finding the nearest eddy enclosing argo profiles\n",
      "Finding the nearest eddy enclosing argo profiles\n",
      "Finding the nearest eddy enclosing argo profiles\n",
      "Found the eddy:46\n",
      "Finding the nearest eddy enclosing argo profiles\n",
      "Finding the nearest eddy enclosing argo profiles\n",
      "Collocating surfaced profile and eddies for: 08-Jan-2011\n",
      "Finding the nearest eddy enclosing argo profiles\n",
      "Finding the nearest eddy enclosing argo profiles\n",
      "Found the eddy:52\n",
      "Finding the nearest eddy enclosing argo profiles\n",
      "Finding the nearest eddy enclosing argo profiles\n",
      "Finding the nearest eddy enclosing argo profiles\n",
      "Collocating surfaced profile and eddies for: 09-Jan-2011\n",
      "Finding the nearest eddy enclosing argo profiles\n",
      "Finding the nearest eddy enclosing argo profiles\n",
      "Found the eddy:60\n",
      "Finding the nearest eddy enclosing argo profiles\n",
      "Finding the nearest eddy enclosing argo profiles\n",
      "Finding the nearest eddy enclosing argo profiles\n",
      "Collocating surfaced profile and eddies for: 10-Jan-2011\n",
      "Finding the nearest eddy enclosing argo profiles\n",
      "Found the eddy:68\n",
      "Finding the nearest eddy enclosing argo profiles\n",
      "Finding the nearest eddy enclosing argo profiles\n",
      "Finding the nearest eddy enclosing argo profiles\n",
      "Finding the nearest eddy enclosing argo profiles\n",
      "Collocating surfaced profile and eddies for: 11-Jan-2011\n",
      "Finding the nearest eddy enclosing argo profiles\n",
      "Found the eddy:77\n",
      "Finding the nearest eddy enclosing argo profiles\n",
      "Finding the nearest eddy enclosing argo profiles\n",
      "Finding the nearest eddy enclosing argo profiles\n",
      "Finding the nearest eddy enclosing argo profiles\n",
      "Collocating surfaced profile and eddies for: 12-Jan-2011\n",
      "no profile in any eddy!!\n",
      "Collocating surfaced profile and eddies for: 13-Jan-2011\n",
      "no profile in any eddy!!\n",
      "Collocating surfaced profile and eddies for: 14-Jan-2011\n",
      "no profile in any eddy!!\n",
      "Collocating surfaced profile and eddies for: 15-Jan-2011\n",
      "no profile in any eddy!!\n",
      "Collocating surfaced profile and eddies for: 16-Jan-2011\n",
      "no profile in any eddy!!\n",
      "Collocating surfaced profile and eddies for: 17-Jan-2011\n",
      "no profile in any eddy!!\n",
      "Collocating surfaced profile and eddies for: 18-Jan-2011\n",
      "no profile in any eddy!!\n",
      "Collocating surfaced profile and eddies for: 19-Jan-2011\n",
      "no profile in any eddy!!\n",
      "Collocating surfaced profile and eddies for: 20-Jan-2011\n",
      "no profile in any eddy!!\n",
      "Collocating surfaced profile and eddies for: 21-Jan-2011\n",
      "no profile in any eddy!!\n",
      "Collocating surfaced profile and eddies for: 22-Jan-2011\n",
      "no profile in any eddy!!\n",
      "Collocating surfaced profile and eddies for: 23-Jan-2011\n",
      "no profile in any eddy!!\n",
      "Collocating surfaced profile and eddies for: 24-Jan-2011\n",
      "no profile in any eddy!!\n",
      "Collocating surfaced profile and eddies for: 25-Jan-2011\n",
      "no profile in any eddy!!\n",
      "Collocating surfaced profile and eddies for: 26-Jan-2011\n",
      "no profile in any eddy!!\n",
      "Collocating surfaced profile and eddies for: 27-Jan-2011\n",
      "no profile in any eddy!!\n",
      "Collocating surfaced profile and eddies for: 28-Jan-2011\n",
      "no profile in any eddy!!\n",
      "Collocating surfaced profile and eddies for: 29-Jan-2011\n",
      "no profile in any eddy!!\n",
      "Collocating surfaced profile and eddies for: 30-Jan-2011\n",
      "no profile in any eddy!!\n",
      "Collocating surfaced profile and eddies for: 31-Jan-2011\n",
      "no profile in any eddy!!\n"
     ]
    }
   ],
   "source": [
    "% Get profiles that are surfaced in cyclonic eddies\n",
    "addpath(strcat(dir_path,'/src/'))\n",
    "\n",
    "%\n",
    "[cInprofid, cIneddyidx] = find_profineddy(cyc_metafmt, eindex, edates, ...\n",
    "    lons, lats, voyageidnstnnum, voyagedates, 'effective');"
   ]
  },
  {
   "cell_type": "markdown",
   "metadata": {},
   "source": [
    "EddyProfSync generates two cell arrays containing matched pairs of eddies and surfaced profiles, each accompanied by its respective indices. Subsequently, I will convert them into arrays for further analysis."
   ]
  },
  {
   "cell_type": "code",
   "execution_count": 8,
   "metadata": {},
   "outputs": [],
   "source": [
    "% Convert to array from cell array\n",
    "cycsr3stnid = cell2mat(cInprofid);\n",
    "cycindex = cell2mat(cIneddyidx);\n",
    "clear cIn*"
   ]
  },
  {
   "cell_type": "markdown",
   "metadata": {},
   "source": [
    "Next, we extract profiles outside of cyclonic eddies for further categorization, eliminating unnecessary checks for profiles associated with cyclonic eddies in the subsequent step. Although the overlap of cyclonic and anticyclonic eddies is unlikely due to the accuracy of eddy tracking algorithms, we won't assume it. Therefore, I will remove the profiles surfaced in cyclonic eddies from the hydrographic observations data."
   ]
  },
  {
   "cell_type": "code",
   "execution_count": 9,
   "metadata": {},
   "outputs": [],
   "source": [
    "% Sampled profiles that are not in cyclonic eddies\n",
    "insidecyc = ismember(voyageidnstnnum, cycsr3stnid,'rows');\n",
    "outsidecyc = ~insidecyc;\n",
    "\n",
    "% Get corresponding  informations\n",
    "outsidecycfpid = voyageidnstnnum(outsidecyc,:);\n",
    "outsidecyclon = lons(outsidecyc);\n",
    "outsidecyclat = lats(outsidecyc);\n",
    "outsidecycday = voyagedates(outsidecyc);\n",
    "\n",
    "% To Visualise results in final step\n",
    "cycargolon = lons(insidecyc); \n",
    "cycargolat = lats(insidecyc);\n",
    "cycargodate = voyagedates(insidecyc);"
   ]
  },
  {
   "cell_type": "markdown",
   "metadata": {},
   "source": [
    "We proceed to identify profiles surfaced in anticyclonic eddies. To achieve this, we first create an EddyIndex for anticyclonic eddies, as discussed above, and then apply EddyProfSync."
   ]
  },
  {
   "cell_type": "code",
   "execution_count": 11,
   "metadata": {},
   "outputs": [
    {
     "name": "stdout",
     "output_type": "stream",
     "text": [
      "Collocating surfaced profile and eddies for: 04-Jan-2011\n",
      "no profile in any eddy!!\n",
      "Collocating surfaced profile and eddies for: 05-Jan-2011\n",
      "no profile in any eddy!!\n",
      "Collocating surfaced profile and eddies for: 06-Jan-2011\n"
     ]
    },
    {
     "name": "stdout",
     "output_type": "stream",
     "text": [
      "no profile in any eddy!!\n",
      "Collocating surfaced profile and eddies for: 08-Jan-2011\n",
      "no profile in any eddy!!\n",
      "Collocating surfaced profile and eddies for: 10-Jan-2011\n",
      "no profile in any eddy!!\n",
      "Collocating surfaced profile and eddies for: 11-Jan-2011\n",
      "Finding the nearest eddy enclosing argo profiles\n",
      "Finding the nearest eddy enclosing argo profiles\n",
      "Finding the nearest eddy enclosing argo profiles\n",
      "Found the eddy:219\n",
      "Finding the nearest eddy enclosing argo profiles\n",
      "Finding the nearest eddy enclosing argo profiles\n",
      "Collocating surfaced profile and eddies for: 12-Jan-2011\n",
      "Finding the nearest eddy enclosing argo profiles\n",
      "Finding the nearest eddy enclosing argo profiles\n",
      "Finding the nearest eddy enclosing argo profiles\n",
      "Found the eddy:238\n",
      "Finding the nearest eddy enclosing argo profiles\n",
      "Finding the nearest eddy enclosing argo profiles\n",
      "Collocating surfaced profile and eddies for: 13-Jan-2011\n",
      "Finding the nearest eddy enclosing argo profiles\n",
      "Finding the nearest eddy enclosing argo profiles\n",
      "Finding the nearest eddy enclosing argo profiles\n",
      "Finding the nearest eddy enclosing argo profiles\n",
      "Found the eddy:255\n",
      "Finding the nearest eddy enclosing argo profiles\n",
      "Finding the nearest eddy enclosing argo profiles\n",
      "Collocating surfaced profile and eddies for: 14-Jan-2011\n",
      "no profile in any eddy!!\n",
      "Collocating surfaced profile and eddies for: 15-Jan-2011\n",
      "Finding the nearest eddy enclosing argo profiles\n",
      "Found the eddy:290\n",
      "Finding the nearest eddy enclosing argo profiles\n",
      "Finding the nearest eddy enclosing argo profiles\n",
      "Finding the nearest eddy enclosing argo profiles\n",
      "Finding the nearest eddy enclosing argo profiles\n",
      "Collocating surfaced profile and eddies for: 16-Jan-2011\n",
      "Finding the nearest eddy enclosing argo profiles\n",
      "Finding the nearest eddy enclosing argo profiles\n",
      "Finding the nearest eddy enclosing argo profiles\n",
      "Finding the nearest eddy enclosing argo profiles\n",
      "Found the eddy:315\n",
      "Finding the nearest eddy enclosing argo profiles\n",
      "Collocating surfaced profile and eddies for: 17-Jan-2011\n",
      "no profile in any eddy!!\n",
      "Collocating surfaced profile and eddies for: 18-Jan-2011\n",
      "no profile in any eddy!!\n",
      "Collocating surfaced profile and eddies for: 19-Jan-2011\n",
      "no profile in any eddy!!\n",
      "Collocating surfaced profile and eddies for: 20-Jan-2011\n",
      "no profile in any eddy!!\n",
      "Collocating surfaced profile and eddies for: 21-Jan-2011\n",
      "no profile in any eddy!!\n",
      "Collocating surfaced profile and eddies for: 22-Jan-2011\n",
      "no profile in any eddy!!\n",
      "Collocating surfaced profile and eddies for: 23-Jan-2011\n",
      "no profile in any eddy!!\n",
      "Collocating surfaced profile and eddies for: 24-Jan-2011\n",
      "no profile in any eddy!!\n",
      "Collocating surfaced profile and eddies for: 25-Jan-2011\n",
      "no profile in any eddy!!\n",
      "Collocating surfaced profile and eddies for: 26-Jan-2011\n",
      "no profile in any eddy!!\n",
      "Collocating surfaced profile and eddies for: 27-Jan-2011\n",
      "no profile in any eddy!!\n",
      "Collocating surfaced profile and eddies for: 28-Jan-2011\n",
      "no profile in any eddy!!\n",
      "Collocating surfaced profile and eddies for: 29-Jan-2011\n",
      "no profile in any eddy!!\n",
      "Collocating surfaced profile and eddies for: 30-Jan-2011\n",
      "no profile in any eddy!!\n",
      "Collocating surfaced profile and eddies for: 31-Jan-2011\n",
      "no profile in any eddy!!\n"
     ]
    }
   ],
   "source": [
    "% Prepare EddyIndex for anticyclonic eddies\n",
    "time_acyc = acyc_metafmt.time;\n",
    "\n",
    "% Get sampling date range from outside cyclonic eddies profile\n",
    "prof_start = min(outsidecycday); % to filter eddies data\n",
    "prof_end = max(outsidecycday); % to filter eddies data\n",
    "\n",
    "%\n",
    "valdate = time_acyc >= prof_start & time_acyc <=prof_end;\n",
    "\n",
    "% Get corresponding parameters from the data set\n",
    "edates = time_acyc(valdate); % eddy time\n",
    "\n",
    "% EDDYINDEX input\n",
    "aeindex = find(valdate); % the index that falls in sampling period\n",
    "clear valdate\n",
    "\n",
    "% Collocation for anticyclonic\n",
    "[cInprofid, cIneddyidx] = find_profineddy(acyc_metafmt, aeindex, edates,...\n",
    "    outsidecyclon, outsidecyclat, outsidecycfpid, outsidecycday, 'effective');\n",
    "\n",
    "% Convert to array from cell array\n",
    "acycsr3stnid = cell2mat(cInprofid);\n",
    "acycindex = cell2mat(cIneddyidx);\n",
    "clear cIn*\n",
    "\n",
    "% To visualise the collocation \n",
    "% Profiles that are not in anticyclonic eddies\n",
    "insideacyc = ismember(outsidecycfpid, acycsr3stnid,'rows');\n",
    "acycargolon = outsidecyclon(insideacyc); \n",
    "acycargolat = outsidecyclat(insideacyc);\n",
    "acycargodate = outsidecycday(insideacyc);"
   ]
  },
  {
   "cell_type": "markdown",
   "metadata": {},
   "source": [
    "Animate the collocated outputs for both cyclonic and anticyclonic eddies."
   ]
  },
  {
   "cell_type": "code",
   "execution_count": 17,
   "metadata": {},
   "outputs": [],
   "source": [
    "% Prepare GIF for profiles that are surfaced in cyclonic eddies\n",
    "filename = strcat('BGCSR03InCycloniceddies', '.gif');\n",
    "%\n",
    "fig = figure(1);\n",
    "for iee = 1:length(cycindex)\n",
    "    ceidx = cycindex(iee);\n",
    "    % Read effective contours\n",
    "    eloncont = cyc_metafmt.effective_contour_longitude(:, ceidx);\n",
    "    elatcont = cyc_metafmt.effective_contour_latitude(:, ceidx);\n",
    "\n",
    "    % Plotting argo surfaced in\n",
    "    plot(cycargolon(iee), cycargolat(iee), '.k', 'MarkerSize',15) % plotting in or on argo profiles\n",
    "    hold on\n",
    "    plot(cyc_metafmt.longitude(ceidx), cyc_metafmt.latitude(ceidx), '*', 'Color', rgb('blue'))\n",
    "    plot(eloncont, elatcont, '-', 'Color', rgb('blue'), 'linewidth', 1.5)\n",
    "    \n",
    "    hold off\n",
    "\n",
    "    tname = ['Eddy ID: ', num2str(cyc_metafmt.track(ceidx))];\n",
    "    ntitle([datestr(cycargodate(iee)), ' ; ', datestr(cyc_metafmt.time(ceidx)) ], 'fontsize', 14, 'fontweigh', 'bold')\n",
    "    title(tname, 'fontsize', 16, 'fontweigh', 'bold')\n",
    "    set(gca, 'linewi', 1.5, 'fontsize', 14, 'fontweigh', 'bold')\n",
    "\n",
    "    % Capturing the plot as an image\n",
    "    frame = getframe(fig);\n",
    "    im = frame2im(frame);\n",
    "    [imind, cm] = rgb2ind(im, 256);\n",
    "    \n",
    "    % Write to the GIF file\n",
    "    if iee == 1\n",
    "        imwrite(imind, cm, filename, 'gif', 'Loopcount', inf);\n",
    "    else\n",
    "        imwrite(imind, cm, filename, 'gif', 'WriteMode', 'append', 'DelayTime', 1)\n",
    "    end\n",
    " clear frame im imind cm tind\n",
    "end\n",
    "clf;close all"
   ]
  },
  {
   "cell_type": "markdown",
   "metadata": {},
   "source": [
    "![Profiles surfaced in cyclonic eddies](BGCSR03InCycloniceddies.gif)"
   ]
  },
  {
   "cell_type": "code",
   "execution_count": 18,
   "metadata": {},
   "outputs": [],
   "source": [
    "% Prepare GIF for profiles that are surfaced in anticyclonic eddies\n",
    "\n",
    "filename = strcat('BGCSR03InAnticycloniceddies', '.gif');\n",
    "%\n",
    "fig = figure(1);\n",
    "for iee = 1:length(acycindex)\n",
    "    ceidx = acycindex(iee);\n",
    "    % Read effective contours\n",
    "    eloncont = acyc_metafmt.effective_contour_longitude(:, ceidx);\n",
    "    elatcont = acyc_metafmt.effective_contour_latitude(:, ceidx);\n",
    "\n",
    "    % Plotting argo surfaced in\n",
    "    plot(acycargolon(iee), acycargolat(iee), '.k', 'MarkerSize',15) % plotting in or on argo profiles\n",
    "    hold on\n",
    "    plot(acyc_metafmt.longitude(ceidx), acyc_metafmt.latitude(ceidx), '*', 'Color', rgb('red'))\n",
    "    plot(eloncont, elatcont, '-', 'Color', rgb('red'), 'LineWidth',1.5)\n",
    "    hold off\n",
    "    tname = ['Eddy ID: ', num2str(acyc_metafmt.track(ceidx))];\n",
    "    ntitle([datestr(acycargodate(iee)), ' ; ', datestr(acyc_metafmt.time(ceidx)) ], 'fontsize', 14, 'fontweigh', 'bold')\n",
    "    title(tname, 'fontsize', 16, 'fontweigh', 'bold')\n",
    "    set(gca, 'linewi', 1.5, 'fontsize', 14, 'fontweigh', 'bold')\n",
    "%     pause(2)\n",
    "    % Capturing the plot as an image\n",
    "    frame = getframe(fig);\n",
    "    im = frame2im(frame);\n",
    "    [imind, cm] = rgb2ind(im, 256);\n",
    "    \n",
    "    % Write to the GIF file\n",
    "    if iee == 1\n",
    "        imwrite(imind, cm, filename, 'gif', 'Loopcount', inf);\n",
    "    else\n",
    "        imwrite(imind, cm, filename, 'gif', 'WriteMode', 'append', 'DelayTime', 1)\n",
    "    end\n",
    " clear frame im imind cm tind\n",
    "end\n",
    "clf;close all"
   ]
  },
  {
   "cell_type": "markdown",
   "metadata": {},
   "source": [
    "![Profiles surfaced in anticyloniccyclonic eddies](BGCSR03InAnticycloniceddies.gif)"
   ]
  },
  {
   "cell_type": "markdown",
   "metadata": {},
   "source": []
  }
 ],
 "metadata": {
  "kernelspec": {
   "display_name": "Matlab (Connection)",
   "language": "matlab",
   "name": "matlab_connect"
  },
  "language_info": {
   "codemirror_mode": "octave",
   "file_extension": ".m",
   "help_links": [
    {
     "text": "MetaKernel Magics",
     "url": "https://metakernel.readthedocs.io/en/latest/source/README.html"
    }
   ],
   "mimetype": "text/x-octave",
   "name": "matlab",
   "version": "0.17.1"
  }
 },
 "nbformat": 4,
 "nbformat_minor": 2
}
